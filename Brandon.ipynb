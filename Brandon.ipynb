{
  "nbformat": 4,
  "nbformat_minor": 0,
  "metadata": {
    "colab": {
      "name": "Brandon.ipynb",
      "provenance": [],
      "authorship_tag": "ABX9TyPKAWuNilRpKI2UjcXiKgWD",
      "include_colab_link": true
    },
    "kernelspec": {
      "name": "python3",
      "display_name": "Python 3"
    },
    "language_info": {
      "name": "python"
    }
  },
  "cells": [
    {
      "cell_type": "markdown",
      "metadata": {
        "id": "view-in-github",
        "colab_type": "text"
      },
      "source": [
        "<a href=\"https://colab.research.google.com/github/brandonritchie/MachineLearning/blob/main/Brandon.ipynb\" target=\"_parent\"><img src=\"https://colab.research.google.com/assets/colab-badge.svg\" alt=\"Open In Colab\"/></a>"
      ]
    },
    {
      "cell_type": "code",
      "metadata": {
        "id": "dIvMpLqPGWxl"
      },
      "source": [
        "import pandas"
      ],
      "execution_count": null,
      "outputs": []
    }
  ]
}